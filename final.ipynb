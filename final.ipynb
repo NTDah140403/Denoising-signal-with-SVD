{
 "cells": [
  {
   "cell_type": "code",
   "execution_count": null,
   "metadata": {},
   "outputs": [],
   "source": [
    "import librosa\n",
    "import numpy as np\n",
    "import matplotlib.pyplot as plt\n",
    "from IPython.display import Audio\n",
    "from scipy.linalg import svd\n",
    "from scipy.ndimage import gaussian_filter1d\n",
    "import scipy as sp \n",
    "from scipy.signal import welch\n",
    "import plotly.graph_objects as go\n",
    "from scipy.signal import butter, lfilter"
   ]
  },
  {
   "cell_type": "markdown",
   "metadata": {},
   "source": [
    "# Noise"
   ]
  },
  {
   "cell_type": "markdown",
   "metadata": {},
   "source": [
    "Generate noise"
   ]
  },
  {
   "cell_type": "code",
   "execution_count": null,
   "metadata": {},
   "outputs": [],
   "source": [
    "def noise_psd(N, psd = lambda f: 1):\n",
    "    X_white = np.fft.rfft(np.random.randn(N))\n",
    "    S = psd(np.fft.rfftfreq(N))\n",
    "    S =  S/np.linalg.norm(S)\n",
    "    X_shaped = X_white * S\n",
    "    return np.fft.irfft(X_shaped)\n",
    "\n",
    "def PSDGenerator(f):\n",
    "    return lambda N: noise_psd(N, f)\n",
    "\n",
    "@PSDGenerator\n",
    "def white_noise(f):\n",
    "    return 1\n",
    "\n",
    "@PSDGenerator\n",
    "def blue_noise(f):\n",
    "    return np.sqrt(f)\n",
    "\n",
    "@PSDGenerator\n",
    "def violet_noise(f):\n",
    "    return f\n",
    "\n",
    "@PSDGenerator\n",
    "def brownian_noise(f):\n",
    "    return 1/np.where(f == 0, float('inf'), f)\n",
    "\n",
    "@PSDGenerator\n",
    "def pink_noise(f):\n",
    "    return 1/np.where(f == 0, float('inf'), np.sqrt(f))\n",
    "\n",
    "def gaussian_noise(f):\n",
    "    return np.random.normal(size=f)"
   ]
  },
  {
   "cell_type": "code",
   "execution_count": null,
   "metadata": {},
   "outputs": [],
   "source": [
    "plt.figure(figsize=(10, 6))\n",
    "\n",
    "for label, kernel in zip([\"white noise\",\"blue_noise\",\"violet noise\",\"brownian noise\",\"pink noise\",\"gaussian noise\"] , [white_noise,blue_noise,violet_noise,brownian_noise,pink_noise,gaussian_noise]):\n",
    "    noise_signal = kernel(10000)\n",
    "    frequencies, psd = welch(noise_signal, fs=20000, nperseg=1024)\n",
    "    plt.semilogy(frequencies, psd,label= label)\n",
    "plt.title('PSD')\n",
    "plt.xlabel('Frequency (Hz)')\n",
    "plt.ylabel('Power/Frequency (dB/Hz)')\n",
    "plt.grid()\n",
    "plt.legend()\n",
    "plt.show()\n",
    "    "
   ]
  },
  {
   "cell_type": "markdown",
   "metadata": {},
   "source": [
    "# SSA"
   ]
  },
  {
   "cell_type": "code",
   "execution_count": null,
   "metadata": {},
   "outputs": [],
   "source": [
    "def matrix_to_time_series(matrix, step_size,real_length):\n",
    "    num_windows, window_size = matrix.shape\n",
    "    time_series_length = window_size + (num_windows - 1) * step_size\n",
    "    time_series = np.zeros(time_series_length)\n",
    "    overlap_count = np.zeros(time_series_length)\n",
    "\n",
    "    for i in range(num_windows):\n",
    "        start_index = i * step_size\n",
    "        end_index = start_index + window_size\n",
    "        time_series[start_index:end_index] += matrix[i, :]\n",
    "        overlap_count[start_index:end_index] += 1\n",
    "    overlap_count[overlap_count == 0] = 1\n",
    "    \n",
    "    time_series /= overlap_count\n",
    "    return time_series[:real_length]\n",
    "def time_series_to_matrix(time_series, window_size, step_size):\n",
    "    num_windows = max(1, int(np.ceil((len(time_series) - window_size) / step_size)) + 1)\n",
    "    matrix = np.zeros((num_windows, window_size))\n",
    "    \n",
    "    for i in range(num_windows):\n",
    "        start_index = i * step_size\n",
    "        end_index = start_index + window_size\n",
    "        if end_index <= len(time_series):\n",
    "            matrix[i, :] = time_series[start_index:end_index]\n",
    "        else:\n",
    "            matrix[i, :len(time_series) - start_index] = time_series[start_index:len(time_series)]\n",
    "            \n",
    "    return matrix\n",
    "def gernerate_k(prercent_k,window_size,step_size):\n",
    "    return int(min(time_series_to_matrix(np.random.random(1000),200,2).shape) * 1)\n",
    "def denoise_signal_svd(x,window_size,step_size,k):\n",
    "    A = time_series_to_matrix(x, window_size, step_size)\n",
    "    U, S, Vt = svd(A, full_matrices=False)\n",
    "    S_p = np.zeros((k, k))\n",
    "    np.fill_diagonal(S_p, S[:k])\n",
    "    A_p = U[:, :k] @ S_p @ Vt[:k, :]\n",
    "    x_p = matrix_to_time_series(A_p,step_size,len(x))\n",
    "    per = sum(S[:k]) / sum(S)\n",
    "    return x_p,per\n",
    "\n",
    "\n",
    "def SNR(S, S_p):\n",
    "    signal_norm = np.linalg.norm(S_p)\n",
    "    noise_norm = np.linalg.norm(S - S_p)\n",
    "    snr = 20 * np.log10(signal_norm / noise_norm) if noise_norm != 0 else np.inf\n",
    "    return snr\n",
    "def gernerate_k(prercent_k,window_size,step_size):\n",
    "    return int(min(time_series_to_matrix(np.random.random(1000),window_size,step_size).shape) * prercent_k)\n",
    "\n"
   ]
  },
  {
   "cell_type": "code",
   "execution_count": null,
   "metadata": {},
   "outputs": [],
   "source": [
    "a = [x for x in range(20)]\n",
    "print(a)"
   ]
  },
  {
   "cell_type": "code",
   "execution_count": null,
   "metadata": {},
   "outputs": [],
   "source": [
    "matrix =  time_series_to_matrix(a,10,1)\n",
    "print(\"Transform a timeseries into matrix using sliding window:\")\n",
    "print(matrix)"
   ]
  },
  {
   "cell_type": "code",
   "execution_count": null,
   "metadata": {},
   "outputs": [],
   "source": [
    "ts =  matrix_to_time_series(matrix,1,20)\n",
    "print(\"Convert a matrix to timeseries:\")\n",
    "print(ts)"
   ]
  },
  {
   "cell_type": "markdown",
   "metadata": {},
   "source": [
    "# Apply to denoise a simple signal"
   ]
  },
  {
   "cell_type": "code",
   "execution_count": null,
   "metadata": {},
   "outputs": [],
   "source": [
    "time = np.linspace(0,10,1000)\n",
    "simple_samples = np.cos(2*np.pi*time)"
   ]
  },
  {
   "cell_type": "code",
   "execution_count": null,
   "metadata": {},
   "outputs": [],
   "source": [
    "plt.plot(simple_samples, label='Original')\n",
    "plt.xlabel('Time')\n",
    "plt.ylabel('amplitude')\n",
    "plt.show()"
   ]
  },
  {
   "cell_type": "code",
   "execution_count": null,
   "metadata": {},
   "outputs": [],
   "source": [
    "noise_signal_samples = simple_samples+ gaussian_noise(len(simple_samples))*0.1\n",
    "plt.plot(noise_signal_samples, label='Signal with noise')\n",
    "plt.xlabel('Time')\n",
    "plt.ylabel('amplitude')\n",
    "plt.show()"
   ]
  },
  {
   "cell_type": "markdown",
   "metadata": {},
   "source": [
    "## The influence of some elements on svd"
   ]
  },
  {
   "cell_type": "code",
   "execution_count": null,
   "metadata": {},
   "outputs": [],
   "source": [
    "\n",
    "wd_s_list = [x for x in range(10,500+1)]\n",
    "prercent_k = 0.2\n",
    "corrcoef_list = []\n",
    "info_list = []\n",
    "for wds in wd_s_list:\n",
    "    k = gernerate_k(prercent_k,wds,1)\n",
    "    dn_signal,info =  denoise_signal_svd(noise_signal_samples,wds,1,10)\n",
    "    info_list.append(info)\n",
    "    corrcoef_list.append(np.corrcoef(simple_samples,dn_signal )[0,1]) #correlation coefficients"
   ]
  },
  {
   "cell_type": "code",
   "execution_count": null,
   "metadata": {},
   "outputs": [],
   "source": [
    "plt.plot(wd_s_list,corrcoef_list)\n",
    "plt.title('Effect of window size on SVD')\n",
    "plt.xlabel('window size')\n",
    "plt.ylabel('correlation coefficients')\n",
    "plt.show()"
   ]
  },
  {
   "cell_type": "code",
   "execution_count": null,
   "metadata": {},
   "outputs": [],
   "source": [
    "plt.plot(wd_s_list,info_list)\n",
    "plt.title('Effect of window size on SVD')\n",
    "plt.xlabel('window size')\n",
    "plt.ylabel('proportion of Information')\n",
    "plt.show()"
   ]
  },
  {
   "cell_type": "code",
   "execution_count": null,
   "metadata": {},
   "outputs": [],
   "source": [
    "step_list = [x for x in range(1,50+1)]\n",
    "prercent_k = 0.5\n",
    "corrcoef_list = []\n",
    "info_list = []\n",
    "for st in step_list:\n",
    "    # k = gernerate_k(prercent_k,100,st)\n",
    "    dn_signal,info =  denoise_signal_svd(noise_signal_samples,100,st,10)\n",
    "    info_list.append(info)\n",
    "    corrcoef_list.append(np.corrcoef(simple_samples,dn_signal )[0,1]) #correlation coefficients"
   ]
  },
  {
   "cell_type": "code",
   "execution_count": null,
   "metadata": {},
   "outputs": [],
   "source": [
    "plt.plot(step_list,corrcoef_list)\n",
    "plt.title('Effect of step  on SVD')\n",
    "plt.xlabel('step')\n",
    "plt.ylabel('correlation coefficients')\n",
    "plt.show()"
   ]
  },
  {
   "cell_type": "code",
   "execution_count": null,
   "metadata": {},
   "outputs": [],
   "source": [
    "plt.plot(step_list,info_list)\n",
    "plt.title('Effect of step  on SVD')\n",
    "plt.xlabel('step')\n",
    "plt.ylabel('proportion of Information')\n",
    "plt.show()"
   ]
  },
  {
   "cell_type": "code",
   "execution_count": null,
   "metadata": {},
   "outputs": [],
   "source": [
    "k_list = [x for x in range(1,gernerate_k(1,50,5) +1)]\n",
    "corrcoef_list = []\n",
    "info_list = []\n",
    "for k in k_list:\n",
    "    dn_signal,info =  denoise_signal_svd(noise_signal_samples,100,1,k)\n",
    "    info_list.append(info)\n",
    "    corrcoef_list.append(np.corrcoef(simple_samples,dn_signal )[0,1]) #correlation coefficients"
   ]
  },
  {
   "cell_type": "code",
   "execution_count": null,
   "metadata": {},
   "outputs": [],
   "source": [
    "plt.plot(k_list,corrcoef_list)\n",
    "plt.title('Effect of k  on SVD')\n",
    "plt.xlabel('k')\n",
    "plt.ylabel('correlation coefficients')\n",
    "plt.show()"
   ]
  },
  {
   "cell_type": "code",
   "execution_count": null,
   "metadata": {},
   "outputs": [],
   "source": [
    "plt.plot(k_list,info_list)\n",
    "plt.title('Effect of step  on SVD')\n",
    "plt.xlabel('k')\n",
    "plt.ylabel('proportion of Information')\n",
    "plt.show()"
   ]
  },
  {
   "cell_type": "markdown",
   "metadata": {},
   "source": [
    "## Denoising with good parameters"
   ]
  },
  {
   "cell_type": "code",
   "execution_count": null,
   "metadata": {},
   "outputs": [],
   "source": [
    "denoised_signal,per =denoise_signal_svd(noise_signal_samples,50,5,4)\n",
    "plt.plot(denoised_signal, label='Smoothed')\n",
    "plt.plot(simple_samples, label='Original')\n",
    "\n",
    "plt.xlabel('Time')\n",
    "plt.ylabel('amplitude')\n",
    "plt.legend()\n",
    "plt.show()"
   ]
  },
  {
   "cell_type": "code",
   "execution_count": null,
   "metadata": {},
   "outputs": [],
   "source": [
    "print(f\"Correlation coefficients: { np.corrcoef(noise_signal_samples,simple_samples)[1,0]}\")\n",
    "print(f\"Proportion of information: { per}\")\n"
   ]
  },
  {
   "cell_type": "markdown",
   "metadata": {},
   "source": [
    "# Apply to denoise a digital audio \n"
   ]
  },
  {
   "cell_type": "markdown",
   "metadata": {},
   "source": [
    "## EDA + preprocessing"
   ]
  },
  {
   "cell_type": "markdown",
   "metadata": {},
   "source": [
    "A conversation between two people."
   ]
  },
  {
   "cell_type": "code",
   "execution_count": null,
   "metadata": {},
   "outputs": [],
   "source": [
    "samples, sample_rate = librosa.load(\"data/sample2.wav\", sr=None)\n"
   ]
  },
  {
   "cell_type": "code",
   "execution_count": null,
   "metadata": {},
   "outputs": [],
   "source": [
    "Audio(samples,rate=sample_rate)"
   ]
  },
  {
   "cell_type": "code",
   "execution_count": null,
   "metadata": {},
   "outputs": [],
   "source": [
    "plt.figure(figsize=(14, 10))\n",
    "plt.subplot(2, 1, 1)\n",
    "plt.plot(samples)\n",
    "plt.title(label='Original Data')\n",
    "plt.xlabel('Time (samples)')\n",
    "plt.ylabel('Amplitude')\n",
    "S = np.abs(librosa.stft(samples))\n",
    "plt.subplot(2, 1, 2)\n",
    "librosa.display.specshow(librosa.amplitude_to_db(S, ref=np.max), sr=sample_rate, x_axis='time', y_axis='log')\n",
    "plt.colorbar(format='%+2.0f dB')\n",
    "plt.title('Spectrogram')\n",
    "plt.xlabel('Time')\n",
    "plt.ylabel('Frequency')\n",
    "plt.show()"
   ]
  },
  {
   "cell_type": "code",
   "execution_count": null,
   "metadata": {},
   "outputs": [],
   "source": [
    "noise_sample = samples + gaussian_noise(len(samples))*0.01"
   ]
  },
  {
   "cell_type": "code",
   "execution_count": null,
   "metadata": {},
   "outputs": [],
   "source": [
    "print(f\"Correlation coefficients: { np.corrcoef(samples,noise_sample)[1,0]}\")\n",
    "print( f'Signal to Noise Ratio :{SNR(samples,noise_sample)}')"
   ]
  },
  {
   "cell_type": "code",
   "execution_count": null,
   "metadata": {},
   "outputs": [],
   "source": [
    "Audio(noise_sample,rate=sample_rate)"
   ]
  },
  {
   "cell_type": "code",
   "execution_count": null,
   "metadata": {},
   "outputs": [],
   "source": [
    "plt.figure(figsize=(14, 10))\n",
    "plt.subplot(2, 1, 1)\n",
    "plt.plot(noise_sample)\n",
    "plt.title(label='Data with noise')\n",
    "plt.xlabel('Time (samples)')\n",
    "plt.ylabel('Amplitude')\n",
    "S = np.abs(librosa.stft(noise_sample))\n",
    "plt.subplot(2, 1, 2)\n",
    "librosa.display.specshow(librosa.amplitude_to_db(S, ref=np.max), sr=sample_rate, x_axis='time', y_axis='log')\n",
    "plt.colorbar(format='%+2.0f dB')\n",
    "plt.title('Spectrogram')\n",
    "plt.xlabel('Time')\n",
    "plt.ylabel('Frequency')\n",
    "plt.show()"
   ]
  },
  {
   "cell_type": "code",
   "execution_count": null,
   "metadata": {},
   "outputs": [],
   "source": [
    "plt.plot(noise_sample, label='Noise Data')\n",
    "plt.plot(samples, label='Original Data')\n",
    "plt.title(label='Wave plot')\n",
    "plt.xlabel('Time (samples)')\n",
    "plt.ylabel('Amplitude')\n",
    "plt.legend()\n",
    "plt.show()"
   ]
  },
  {
   "cell_type": "markdown",
   "metadata": {},
   "source": [
    "## Svd on total signal"
   ]
  },
  {
   "cell_type": "code",
   "execution_count": null,
   "metadata": {},
   "outputs": [],
   "source": [
    "smoothed_data,per =denoise_signal_svd(noise_sample,1024,256,70)\n"
   ]
  },
  {
   "cell_type": "code",
   "execution_count": null,
   "metadata": {},
   "outputs": [],
   "source": [
    "print(f\"Correlation coefficients: { np.corrcoef(samples,smoothed_data)[1,0]}\")\n",
    "print(f\"Proportion of information: { per}\")\n",
    "print( f'Signal to Noise Ratio :{SNR(samples,smoothed_data)}')"
   ]
  },
  {
   "cell_type": "code",
   "execution_count": null,
   "metadata": {},
   "outputs": [],
   "source": [
    "Audio(smoothed_data,rate=sample_rate)"
   ]
  },
  {
   "cell_type": "code",
   "execution_count": null,
   "metadata": {},
   "outputs": [],
   "source": [
    "plt.figure(figsize=(14, 10))\n",
    "plt.subplot(2, 1, 1)\n",
    "plt.plot(smoothed_data)\n",
    "plt.title(label='Denoised Data')\n",
    "plt.xlabel('Time (samples)')\n",
    "plt.ylabel('Amplitude')\n",
    "S = np.abs(librosa.stft(smoothed_data))\n",
    "plt.subplot(2, 1, 2)\n",
    "librosa.display.specshow(librosa.amplitude_to_db(S, ref=np.max), sr=sample_rate, x_axis='time', y_axis='log')\n",
    "plt.colorbar(format='%+2.0f dB')\n",
    "plt.title('Spectrogram')\n",
    "plt.xlabel('Time')\n",
    "plt.ylabel('Frequency')\n",
    "plt.show()"
   ]
  },
  {
   "cell_type": "code",
   "execution_count": null,
   "metadata": {},
   "outputs": [],
   "source": [
    "plt.plot(samples[:50000], label='Original Data')\n",
    "plt.plot(smoothed_data[:50000], label='Smoothed')\n",
    "\n",
    "plt.xlabel('Time')\n",
    "plt.ylabel('amplitude')\n",
    "plt.legend()\n",
    "plt.show()"
   ]
  },
  {
   "cell_type": "code",
   "execution_count": null,
   "metadata": {},
   "outputs": [],
   "source": [
    "plt.plot(noise_sample[20000:50000], label='noise_sample')\n",
    "plt.plot(smoothed_data[20000:50000], label='Smoothed')\n",
    "plt.title(label='Wave plot')\n",
    "plt.xlabel('Time (samples)')\n",
    "plt.ylabel('Amplitude')\n",
    "plt.legend()\n",
    "plt.show()"
   ]
  },
  {
   "cell_type": "code",
   "execution_count": null,
   "metadata": {},
   "outputs": [],
   "source": [
    "fig = go.Figure()\n",
    "fig.add_trace(go.Scatter( y=smoothed_data[26000:28000], mode='lines', name='Denoised'))\n",
    "fig.add_trace(go.Scatter( y=noise_sample[26000:28000], mode='lines', name='Noise'))\n",
    "fig.add_trace(go.Scatter( y=samples[26000:28000], mode='lines', name='Original'))\n",
    "\n",
    "\n",
    "fig.update_layout(\n",
    "    title='Interactive wave Plot',\n",
    "    xaxis_title='Time',\n",
    "    yaxis_title='amplitude',\n",
    "    xaxis_rangeslider_visible=True\n",
    ")\n",
    "\n",
    "fig.show()"
   ]
  },
  {
   "cell_type": "markdown",
   "metadata": {},
   "source": [
    "## Partitoning denoising"
   ]
  },
  {
   "cell_type": "code",
   "execution_count": null,
   "metadata": {},
   "outputs": [],
   "source": [
    "t = len(noise_sample)\n",
    "i = 0\n",
    "step = sample_rate*4\n",
    "p_denoised_signal = np.array([])\n",
    "info_list= np.array([])\n",
    "while i < t:\n",
    "    trim_noise_sample = noise_sample[i:i+step]\n",
    "    segment,per =denoise_signal_svd(trim_noise_sample,1024,128,60)\n",
    "    p_denoised_signal = np.append(p_denoised_signal, segment)\n",
    "    info_list = np.append(info_list, per)\n",
    "    i+=step  \n"
   ]
  },
  {
   "cell_type": "code",
   "execution_count": null,
   "metadata": {},
   "outputs": [],
   "source": [
    "print(f\"Correlation coefficients: { np.corrcoef(samples,p_denoised_signal)[1,0]}\")\n",
    "print(f\"Average proportion of information: { np.mean(info_list)}\")\n",
    "print( f'Signal to Noise Ratio :{SNR(samples,p_denoised_signal)}')"
   ]
  },
  {
   "cell_type": "code",
   "execution_count": null,
   "metadata": {},
   "outputs": [],
   "source": [
    "Audio(p_denoised_signal,rate=sample_rate)"
   ]
  },
  {
   "cell_type": "code",
   "execution_count": null,
   "metadata": {},
   "outputs": [],
   "source": [
    "plt.figure(figsize=(14, 10))\n",
    "plt.subplot(2, 1, 1)\n",
    "plt.plot(p_denoised_signal)\n",
    "plt.title(label='Partitioning denoised Data')\n",
    "plt.xlabel('Time (samples)')\n",
    "plt.ylabel('Amplitude')\n",
    "S = np.abs(librosa.stft(p_denoised_signal))\n",
    "plt.subplot(2, 1, 2)\n",
    "librosa.display.specshow(librosa.amplitude_to_db(S, ref=np.max), sr=sample_rate, x_axis='time', y_axis='log')\n",
    "plt.colorbar(format='%+2.0f dB')\n",
    "plt.title('Spectrogram')\n",
    "plt.xlabel('Time')\n",
    "plt.ylabel('Frequency')\n",
    "plt.show()"
   ]
  },
  {
   "cell_type": "code",
   "execution_count": null,
   "metadata": {},
   "outputs": [],
   "source": [
    "plt.plot(samples[20000:50000], label='Original')\n",
    "plt.plot(p_denoised_signal[20000:50000], label='Smoothed')\n",
    "plt.title(label='Wave plot')\n",
    "plt.xlabel('Time')\n",
    "plt.ylabel('amplitude')\n",
    "plt.legend()\n",
    "plt.show()"
   ]
  },
  {
   "cell_type": "code",
   "execution_count": null,
   "metadata": {},
   "outputs": [],
   "source": [
    "plt.plot(noise_sample[20000:50000], label='noise_sample')\n",
    "plt.plot(p_denoised_signal[20000:50000], label='Smoothed')\n",
    "plt.title(label='Wave plot')\n",
    "plt.xlabel('Time (samples)')\n",
    "plt.ylabel('Amplitude')\n",
    "plt.legend()\n",
    "plt.show()"
   ]
  },
  {
   "cell_type": "code",
   "execution_count": null,
   "metadata": {},
   "outputs": [],
   "source": [
    "fig = go.Figure()\n",
    "fig.add_trace(go.Scatter( y=p_denoised_signal[:sample_rate*20], mode='lines', name='Denoised'))\n",
    "fig.add_trace(go.Scatter( y=noise_sample[:sample_rate*20], mode='lines', name='Noise'))\n",
    "fig.add_trace(go.Scatter( y=samples[:sample_rate*20], mode='lines', name='Original'))\n",
    "\n",
    "\n",
    "fig.update_layout(\n",
    "    title='Interactive Wave Plot',\n",
    "    xaxis_title='Time',\n",
    "    yaxis_title='amplitude',\n",
    "    xaxis_rangeslider_visible=True\n",
    ")\n",
    "\n",
    "fig.show()"
   ]
  },
  {
   "cell_type": "markdown",
   "metadata": {},
   "source": [
    "## Comparing total signal svd vs partitioning svd"
   ]
  },
  {
   "cell_type": "code",
   "execution_count": null,
   "metadata": {},
   "outputs": [],
   "source": [
    "fig = go.Figure()\n",
    "fig.add_trace(go.Scatter( y=smoothed_data[:sample_rate*20], mode='lines', name='Default denoise'))\n",
    "fig.add_trace(go.Scatter( y=p_denoised_signal[:sample_rate*20], mode='lines', name='Partitioning denoise'))\n",
    "fig.add_trace(go.Scatter( y=samples[:sample_rate*20], mode='lines', name='Original'))\n",
    "\n",
    "fig.update_layout(\n",
    "    title='Interactive wave Plot',\n",
    "    xaxis_title='Time',\n",
    "    yaxis_title='amplitude',\n",
    "    xaxis_rangeslider_visible=True\n",
    ")\n",
    "\n",
    "fig.show()"
   ]
  },
  {
   "cell_type": "code",
   "execution_count": null,
   "metadata": {},
   "outputs": [],
   "source": [
    "fft_result = np.fft.rfft(smoothed_data)\n",
    "fft_spectrum_abs1 = np.abs(fft_result)\n",
    "freq1 = np.fft.rfftfreq(len(smoothed_data), 1 / sample_rate)\n",
    "\n",
    "fft_result = np.fft.rfft(p_denoised_signal)\n",
    "fft_spectrum_abs2 = np.abs(fft_result)\n",
    "freq2 = np.fft.rfftfreq(len(smoothed_data), 1 / sample_rate)\n",
    "\n",
    "\n",
    "\n",
    "plt.semilogy(freq1, fft_spectrum_abs1,label =\"Default denoise\")\n",
    "plt.semilogy(freq2, fft_spectrum_abs2,label =\"Partitioning denoise\")\n",
    "plt.title('Power Spectral Density (PSD)')\n",
    "plt.xlabel('Frequency (Hz)')\n",
    "plt.ylabel('log(Amplitude)')\n",
    "plt.legend()\n",
    "plt.show()"
   ]
  },
  {
   "cell_type": "markdown",
   "metadata": {},
   "source": [
    "There is still a small amount of noise scattered throughout the frequencies that SVD cannot completely resolve"
   ]
  },
  {
   "cell_type": "markdown",
   "metadata": {},
   "source": [
    "## Filtering"
   ]
  },
  {
   "cell_type": "code",
   "execution_count": null,
   "metadata": {},
   "outputs": [],
   "source": [
    "fft_spectrum = np.fft.rfft(p_denoised_signal)\n",
    "freq = np.fft.rfftfreq(len(p_denoised_signal), d=1./sample_rate)\n",
    "fft_spectrum_abs = np.abs(fft_spectrum)\n",
    "plt.plot(freq, fft_spectrum_abs)\n",
    "plt.xlim(0,3000)\n",
    "plt.title(\"Frequency Spectrum plot\")\n",
    "plt.xlabel(\"frequency, Hz\")\n",
    "plt.ylabel(\"Amplitude, units\")\n",
    "plt.show()"
   ]
  },
  {
   "cell_type": "markdown",
   "metadata": {},
   "source": [
    "- Male voices: Generally range from 85 Hz to 180 Hz.\n",
    "- Female voices: Generally range from 165 Hz to 255 Hz. \\\n",
    "So, we can filter the final signal between 20hz and 1000hz (It depend on Frequency Spectrum)"
   ]
  },
  {
   "cell_type": "code",
   "execution_count": null,
   "metadata": {},
   "outputs": [],
   "source": [
    "fft_spectrum = np.fft.rfft(p_denoised_signal)\n",
    "freq = np.fft.rfftfreq(len(p_denoised_signal), d=1./sample_rate)\n",
    "for i,f in enumerate(freq):\n",
    "    if f < 50 or f > 1000 :\n",
    "        fft_spectrum[i] = 0.0\n",
    "fp__denoised_signal = np.fft.irfft(fft_spectrum)"
   ]
  },
  {
   "cell_type": "code",
   "execution_count": null,
   "metadata": {},
   "outputs": [],
   "source": [
    "Audio(fp__denoised_signal,rate=sample_rate)"
   ]
  },
  {
   "cell_type": "code",
   "execution_count": null,
   "metadata": {},
   "outputs": [],
   "source": [
    "fft_spectrum = np.fft.rfft(fp__denoised_signal)\n",
    "freq = np.fft.rfftfreq(len(fp__denoised_signal), d=1./sample_rate)\n",
    "fft_spectrum_abs = np.abs(fft_spectrum)\n",
    "plt.plot(freq, fft_spectrum_abs)\n",
    "plt.xlabel(\"frequency, Hz\")\n",
    "plt.ylabel(\"Amplitude, units\")\n",
    "plt.show()"
   ]
  },
  {
   "cell_type": "code",
   "execution_count": null,
   "metadata": {},
   "outputs": [],
   "source": [
    "plt.plot(samples)\n",
    "plt.plot(fp__denoised_signal)"
   ]
  },
  {
   "cell_type": "code",
   "execution_count": null,
   "metadata": {},
   "outputs": [],
   "source": [
    "plt.figure(figsize=(14, 10))\n",
    "plt.subplot(2, 1, 1)\n",
    "plt.plot(fp__denoised_signal)\n",
    "plt.title(label='Partitioning denoised Data with filter')\n",
    "plt.xlabel('Time (samples)')\n",
    "plt.ylabel('Amplitude')\n",
    "S = np.abs(librosa.stft(fp__denoised_signal))\n",
    "plt.subplot(2, 1, 2)\n",
    "librosa.display.specshow(librosa.amplitude_to_db(S, ref=np.max), sr=sample_rate, x_axis='time', y_axis='log')\n",
    "plt.colorbar(format='%+2.0f dB')\n",
    "plt.title('Spectrogram')\n",
    "plt.xlabel('Time')\n",
    "plt.ylabel('Frequency')\n",
    "plt.show()"
   ]
  },
  {
   "cell_type": "markdown",
   "metadata": {},
   "source": [
    "# Modifying Model"
   ]
  },
  {
   "cell_type": "code",
   "execution_count": null,
   "metadata": {},
   "outputs": [],
   "source": [
    "# Add a method choose k :the threshold index τ can be computed as the center of mass for the singular values.\n",
    "# Add alpha: adjust small singular values \n",
    "# Add alpha: adjust large singular values \n",
    "\n",
    "def denoise_signal_svd_modified(x, window_size, step_size,alpha=0.1,beta =1, fraction=0.1):\n",
    "    A = time_series_to_matrix(x, window_size, step_size)\n",
    "    U, S, Vt = svd(A, full_matrices=False)\n",
    "    tau = sum((i + 1) * S[i] for i in range(len(S))) / sum(S)\n",
    "    tau_adjusted = fraction * tau\n",
    "    M0 = int(tau_adjusted)\n",
    "    S_p = np.zeros_like(S)\n",
    "    S_p[:M0] = S[:M0]*beta\n",
    "    S_p[M0:] = alpha * S[M0:]\n",
    "    A_p = U @ np.diag(S_p) @ Vt\n",
    "    x_p = matrix_to_time_series(A_p, step_size, len(x))\n",
    "    per = sum(S_p**2) / sum(S**2)\n",
    "    return x_p, per"
   ]
  },
  {
   "cell_type": "markdown",
   "metadata": {},
   "source": [
    "## Using our teammate's recording"
   ]
  },
  {
   "cell_type": "code",
   "execution_count": null,
   "metadata": {},
   "outputs": [],
   "source": [
    "samples, sample_rate = librosa.load(\"data/nonoise.wav\", sr=None)"
   ]
  },
  {
   "cell_type": "markdown",
   "metadata": {},
   "source": [
    "Add gaussian noise to clean signal"
   ]
  },
  {
   "cell_type": "code",
   "execution_count": null,
   "metadata": {},
   "outputs": [],
   "source": [
    "noise_sample =samples+ gaussian_noise(len(samples))*0.01"
   ]
  },
  {
   "cell_type": "code",
   "execution_count": null,
   "metadata": {},
   "outputs": [],
   "source": [
    "Audio(noise_sample,rate=sample_rate)"
   ]
  },
  {
   "cell_type": "code",
   "execution_count": null,
   "metadata": {},
   "outputs": [],
   "source": [
    "smoothed_data,per =denoise_signal_svd_modified(noise_sample,1024,256,alpha =0.00,beta= 1,fraction=0.85)"
   ]
  },
  {
   "cell_type": "code",
   "execution_count": null,
   "metadata": {},
   "outputs": [],
   "source": [
    "Audio(smoothed_data,rate=sample_rate) # signal after denoising, but still have a little bit of noise"
   ]
  },
  {
   "cell_type": "code",
   "execution_count": null,
   "metadata": {},
   "outputs": [],
   "source": [
    "print(f\"Correlation coefficients: { np.corrcoef(samples,smoothed_data)[1,0]}\")\n",
    "print(f\"Proportion of information: { per}\")\n",
    "print( f'Signal to Noise Ratio :{SNR(samples,smoothed_data)}')\n",
    "print( f'RMSE :{np.linalg.norm(samples - smoothed_data)/len(samples)**(1/2)}')"
   ]
  },
  {
   "cell_type": "markdown",
   "metadata": {},
   "source": [
    "The noise signal extract with svd"
   ]
  },
  {
   "cell_type": "code",
   "execution_count": null,
   "metadata": {},
   "outputs": [],
   "source": [
    "removed_signal,per =denoise_signal_svd_modified(noise_sample,1024,256,alpha =1,beta=0,fraction=0.85)"
   ]
  },
  {
   "cell_type": "code",
   "execution_count": null,
   "metadata": {},
   "outputs": [],
   "source": [
    "Audio(removed_signal,rate=sample_rate)"
   ]
  },
  {
   "cell_type": "code",
   "execution_count": null,
   "metadata": {},
   "outputs": [],
   "source": [
    "fig = go.Figure()\n",
    "fig.add_trace(go.Scatter( y=smoothed_data[26000:28000], mode='lines', name='Denoised'))\n",
    "fig.add_trace(go.Scatter( y=noise_sample[26000:28000], mode='lines', name='Noise'))\n",
    "fig.add_trace(go.Scatter( y=samples[26000:28000], mode='lines', name='Original'))\n",
    "fig.update_layout(\n",
    "    title='Interactive wave Plot',\n",
    "    xaxis_title='Time',\n",
    "    yaxis_title='amplitude',\n",
    "    xaxis_rangeslider_visible=True\n",
    ")\n",
    "\n",
    "fig.show()"
   ]
  },
  {
   "cell_type": "markdown",
   "metadata": {},
   "source": [
    "## Performance improvements"
   ]
  },
  {
   "cell_type": "markdown",
   "metadata": {},
   "source": [
    "Method 1: Continue denoising with svd"
   ]
  },
  {
   "cell_type": "code",
   "execution_count": null,
   "metadata": {},
   "outputs": [],
   "source": [
    "smoothed_lp = smoothed_data\n",
    "for i in range(100):\n",
    "    smoothed_lp,_ =denoise_signal_svd(smoothed_lp,1024,256,100)"
   ]
  },
  {
   "cell_type": "code",
   "execution_count": null,
   "metadata": {},
   "outputs": [],
   "source": [
    "Audio(smoothed_lp,rate=sample_rate) "
   ]
  },
  {
   "cell_type": "markdown",
   "metadata": {},
   "source": [
    "Method 2: Using a filter and smooth with convolution"
   ]
  },
  {
   "cell_type": "code",
   "execution_count": null,
   "metadata": {},
   "outputs": [],
   "source": [
    "def bandpass_filter(data, lowcut, highcut, fs, order=5): #Fillter function \n",
    "    nyquist = 0.5 * fs\n",
    "    low = lowcut / nyquist\n",
    "    high = highcut / nyquist\n",
    "    b, a = butter(order, [low, high], btype='band')\n",
    "    y = lfilter(b, a, data)\n",
    "    return y"
   ]
  },
  {
   "cell_type": "code",
   "execution_count": null,
   "metadata": {},
   "outputs": [],
   "source": [
    "kernel_size = 10\n",
    "kernel = np.hamming(kernel_size)\n",
    "# Human voice frequency is between 300 and 3000 Hz\n",
    "filtered_signal = bandpass_filter(smoothed_data,300,4000,sample_rate)\n",
    "filtered_signal = sp.signal.convolve(filtered_signal, kernel/kernel.sum(), mode='same') # Smooth signal after filtering"
   ]
  },
  {
   "cell_type": "code",
   "execution_count": null,
   "metadata": {},
   "outputs": [],
   "source": [
    "Audio(filtered_signal,rate=sample_rate)"
   ]
  },
  {
   "cell_type": "markdown",
   "metadata": {},
   "source": [
    "Combine 2 method"
   ]
  },
  {
   "cell_type": "code",
   "execution_count": null,
   "metadata": {},
   "outputs": [],
   "source": [
    "filtered_signal = bandpass_filter(smoothed_lp,300,4000,sample_rate)\n",
    "filtered_signal = sp.signal.convolve(filtered_signal, kernel/kernel.sum(), mode='same') \n",
    "Audio(filtered_signal,rate=sample_rate)"
   ]
  }
 ],
 "metadata": {
  "kernelspec": {
   "display_name": "stats",
   "language": "python",
   "name": "python3"
  },
  "language_info": {
   "codemirror_mode": {
    "name": "ipython",
    "version": 3
   },
   "file_extension": ".py",
   "mimetype": "text/x-python",
   "name": "python",
   "nbconvert_exporter": "python",
   "pygments_lexer": "ipython3",
   "version": "3.9.16"
  }
 },
 "nbformat": 4,
 "nbformat_minor": 2
}
